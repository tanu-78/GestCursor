{
 "cells": [
  {
   "cell_type": "code",
   "execution_count": 1,
   "id": "f3767311",
   "metadata": {},
   "outputs": [],
   "source": [
    "import mediapipe as mp\n",
    "import cv2\n",
    "import numpy as np\n",
    "from math import sqrt\n",
    "import win32api\n",
    "import pyautogui"
   ]
  },
  {
   "cell_type": "code",
   "execution_count": 2,
   "id": "e7b8fc10",
   "metadata": {},
   "outputs": [],
   "source": [
    "mp_drawing = mp.solutions.drawing_utils\n",
    "mp_hands = mp.solutions.hands"
   ]
  },
  {
   "cell_type": "code",
   "execution_count": 3,
   "id": "a31741df",
   "metadata": {},
   "outputs": [],
   "source": [
    "# Open the webcam\n",
    "video = cv2.VideoCapture(0)\n"
   ]
  },
  {
   "cell_type": "code",
   "execution_count": 4,
   "id": "34e62d97",
   "metadata": {},
   "outputs": [],
   "source": [
    "# Check if the webcam is opened successfully\n",
    "if not video.isOpened():\n",
    "    print(\"Error: Could not open webcam.\")\n",
    "    exit()"
   ]
  },
  {
   "cell_type": "code",
   "execution_count": 5,
   "id": "b2e321bd",
   "metadata": {},
   "outputs": [
    {
     "ename": "KeyboardInterrupt",
     "evalue": "",
     "output_type": "error",
     "traceback": [
      "\u001b[1;31m---------------------------------------------------------------------------\u001b[0m",
      "\u001b[1;31mKeyboardInterrupt\u001b[0m                         Traceback (most recent call last)",
      "\u001b[1;32m~\\AppData\\Local\\Temp\\ipykernel_684\\4187792929.py\u001b[0m in \u001b[0;36m<module>\u001b[1;34m\u001b[0m\n\u001b[0;32m      3\u001b[0m     \u001b[1;32mwhile\u001b[0m \u001b[0mvideo\u001b[0m\u001b[1;33m.\u001b[0m\u001b[0misOpened\u001b[0m\u001b[1;33m(\u001b[0m\u001b[1;33m)\u001b[0m\u001b[1;33m:\u001b[0m\u001b[1;33m\u001b[0m\u001b[1;33m\u001b[0m\u001b[0m\n\u001b[0;32m      4\u001b[0m         \u001b[1;31m# Read a frame from the webcam\u001b[0m\u001b[1;33m\u001b[0m\u001b[1;33m\u001b[0m\u001b[0m\n\u001b[1;32m----> 5\u001b[1;33m         \u001b[0m_\u001b[0m\u001b[1;33m,\u001b[0m \u001b[0mframe\u001b[0m \u001b[1;33m=\u001b[0m \u001b[0mvideo\u001b[0m\u001b[1;33m.\u001b[0m\u001b[0mread\u001b[0m\u001b[1;33m(\u001b[0m\u001b[1;33m)\u001b[0m\u001b[1;33m\u001b[0m\u001b[1;33m\u001b[0m\u001b[0m\n\u001b[0m\u001b[0;32m      6\u001b[0m \u001b[1;33m\u001b[0m\u001b[0m\n\u001b[0;32m      7\u001b[0m         \u001b[1;31m# Check if the frame is read successfully\u001b[0m\u001b[1;33m\u001b[0m\u001b[1;33m\u001b[0m\u001b[0m\n",
      "\u001b[1;31mKeyboardInterrupt\u001b[0m: "
     ]
    }
   ],
   "source": [
    "# Initialize the hand tracking module\n",
    "with mp_hands.Hands(min_detection_confidence=0.8, min_tracking_confidence=0.5) as hands:\n",
    "    while video.isOpened():\n",
    "        # Read a frame from the webcam\n",
    "        _, frame = video.read()\n",
    "\n",
    "        # Check if the frame is read successfully\n",
    "        if frame is None:\n",
    "            print(\"Error: Couldn't read frame.\")\n",
    "            break"
   ]
  },
  {
   "cell_type": "code",
   "execution_count": null,
   "id": "b1dd287f",
   "metadata": {},
   "outputs": [],
   "source": [
    " # Convert the frame to RGB format\n",
    "        image = cv2.cvtColor(frame, cv2.COLOR_BGR2RGB)\n",
    "        image = cv2.flip(image, 1)\n",
    "\n",
    "        imageHeight, imageWidth, _ = image.shape\n"
   ]
  },
  {
   "cell_type": "code",
   "execution_count": null,
   "id": "629a3c55",
   "metadata": {},
   "outputs": [],
   "source": [
    "# Process the hand landmarks\n",
    "        results = hands.process(image)\n",
    "\n",
    "        image = cv2.cvtColor(image, cv2.COLOR_RGB2BGR)\n",
    "\n",
    "        if results.multi_hand_landmarks:\n",
    "            for num, hand in enumerate(results.multi_hand_landmarks):\n",
    "                mp_drawing.draw_landmarks(image, hand, mp_hands.HAND_CONNECTIONS,\n",
    "                                          mp_drawing.DrawingSpec(color=(250, 44, 250), thickness=2, circle_radius=2),\n",
    "                                          )\n",
    "\n",
    "                for handLandmarks in results.multi_hand_landmarks:\n",
    "                    for point in mp_hands.HandLandmark:\n",
    "                        normalizedLandmark = handLandmarks.landmark[point]\n",
    "                        pixelCoordinatesLandmark = mp_drawing._normalized_to_pixel_coordinates(\n",
    "                            normalizedLandmark.x, normalizedLandmark.y, imageWidth, imageHeight)\n",
    "\n",
    "                        point = str(point)\n",
    "\n",
    "                        if point == 'HandLandmark.INDEX_FINGER_TIP':\n",
    "                            try:\n",
    "                                indexfingertip_x = pixelCoordinatesLandmark[0]\n",
    "                                indexfingertip_y = pixelCoordinatesLandmark[1]\n",
    "                                win32api.SetCursorPos((indexfingertip_x * 4, indexfingertip_y * 5))\n",
    "                            except:\n",
    "                                pass\n",
    "\n",
    "                        elif point == 'HandLandmark.THUMB_TIP':\n",
    "                            try:\n",
    "                                thumbfingertip_x = pixelCoordinatesLandmark[0]\n",
    "                                thumbfingertip_y = pixelCoordinatesLandmark[1]\n",
    "                                # print(\"thumb\", thumbfingertip_x)\n",
    "                            except:\n",
    "                                pass\n",
    "\n",
    "                try:\n",
    "                    Distance_x = sqrt((indexfingertip_x - thumbfingertip_x) ** 2 + (\n",
    "                            indexfingertip_x - thumbfingertip_x) ** 2)\n",
    "                    Distance_y = sqrt((indexfingertip_y - thumbfingertip_y) ** 2 + (\n",
    "                            indexfingertip_y - thumbfingertip_y) ** 2)\n",
    "\n",
    "                    if Distance_x < 5 or Distance_x > -5:\n",
    "                        if Distance_y < 5 or Distance_y > -5:\n",
    "                            pyautogui.click()\n",
    "\n",
    "                except:\n",
    "                    pass\n"
   ]
  },
  {
   "cell_type": "code",
   "execution_count": null,
   "id": "e348dbcd",
   "metadata": {},
   "outputs": [],
   "source": [
    "# Show the frame with hand tracking\n",
    "        cv2.imshow('Hand Tracking', image)"
   ]
  },
  {
   "cell_type": "code",
   "execution_count": null,
   "id": "3e41d38b",
   "metadata": {},
   "outputs": [],
   "source": [
    "# Exit the loop if 'q' is pressed\n",
    "        if cv2.waitKey(10) & 0xFF == ord('q'):\n",
    "            break"
   ]
  },
  {
   "cell_type": "code",
   "execution_count": null,
   "id": "6404d672",
   "metadata": {},
   "outputs": [],
   "source": [
    "# Release the video capture and close all windows\n",
    "video.release()\n",
    "cv2.destroyAllWindows()"
   ]
  },
  {
   "cell_type": "code",
   "execution_count": null,
   "id": "c10dc86c",
   "metadata": {},
   "outputs": [],
   "source": []
  }
 ],
 "metadata": {
  "kernelspec": {
   "display_name": "Python 3 (ipykernel)",
   "language": "python",
   "name": "python3"
  },
  "language_info": {
   "codemirror_mode": {
    "name": "ipython",
    "version": 3
   },
   "file_extension": ".py",
   "mimetype": "text/x-python",
   "name": "python",
   "nbconvert_exporter": "python",
   "pygments_lexer": "ipython3",
   "version": "3.9.13"
  }
 },
 "nbformat": 4,
 "nbformat_minor": 5
}
